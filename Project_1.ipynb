{
 "cells": [
  {
   "cell_type": "markdown",
   "id": "f4cdd066",
   "metadata": {},
   "source": [
    "# Objectives\n",
    "1) What are the five most popular \"commuter trips\"?\n",
    "    a) How do you define commuter?\n",
    "    b) How did you determine these five routes?\n",
    "2) How to increase ridership through promotions?\n",
    "\n",
    "## Existing Promotions\n",
    " - Cheaper memberships for low income families or people\n",
    " - Single Ride\n",
    " - Monthly Membership\n",
    " - Annual Membership\n",
    " - Bike Share for All\n",
    " - Access Pass\n",
    " - Corporate Membership\n",
    " - Grubhub membership\n",
    " - Hilton and Delta points\n",
    " - Credit card points\n",
    "\n",
    "## Example recommendations\n",
    " - Market offers differently to generate more revenue\n",
    " - Remove offers that are not working\n",
    " - Modify exising offers to generate more revenue\n",
    " - Create new offers for hidden business opportunities you have found\n",
    " \n",
    "## Follow up questions:\n",
    " \"In data exploration process, you will find a lot of dirty data, that you will need to either clean or filter out.\"\n",
    " - Can we filter using a python notebook? How? (Given the current data set.) How do we use SQL to explore the data after filtering via Python?\n",
    "\"In the final Jupyter Notebook, the results of your BigQuery SQL will be read into Pandas, where you will use the skills you learned in the Python class to print formatted Pandas tables, simple data visualizations using Seaborn / Matplotlib, etc.\"\n",
    " - How do we get the SQL query into the jupyter notebook?\n"
   ]
  },
  {
   "cell_type": "markdown",
   "id": "d154f072",
   "metadata": {},
   "source": [
    "## Datasets & Their Contents\n",
    "- Bikeshare status\n",
    "    - Station ID, Bikes Available, Docks Available, Time\n",
    "- Bikeshare stations\n",
    "    - Station ID, Name, Lattitude, Longitude, Dock Count, Landmark, Installation Date\n",
    "- Bikeshare trips\n",
    "    - Trip ID, Duration, Start Date, Start Station Name, Start Station ID, End Date, End Station Name, End Station ID, Bike number, Zip Code, Subscription Type"
   ]
  },
  {
   "cell_type": "markdown",
   "id": "2ef7683d",
   "metadata": {},
   "source": [
    "## What defines a commuter trip?\n",
    "### After initial dataset discovery, initial observations / thoughts listed below\n",
    "\n",
    "- start and end station differ\n",
    "- subscribers are the main customers\n",
    "- hours of the day? 7-9AM, 4-6PM\n",
    "- average duration ~10 minutes\n",
    "\n",
    "## What defines a non-commuter trip?\n",
    "### After initial dataset discovery, initial observations / thoughts listed below\n",
    "\n",
    "- one time purchase customers are the main customers\n",
    "- start and end station could be the same\n",
    "- hours of the day 10AM - 3PM: daylight hours not during commuting times\n",
    "- months of the year\n",
    "- average duration ~1 hr"
   ]
  },
  {
   "cell_type": "markdown",
   "id": "50e3efe2",
   "metadata": {},
   "source": [
    "### Count the number of trips per hour of day for commuters and output a graph"
   ]
  },
  {
   "cell_type": "code",
   "execution_count": 37,
   "id": "662ea6cc",
   "metadata": {},
   "outputs": [
    {
     "name": "stderr",
     "output_type": "stream",
     "text": [
      "Query complete after 0.00s: 100%|██████████| 1/1 [00:00<00:00, 390.68query/s] \n",
      "Downloading: 100%|██████████| 2/2 [00:01<00:00,  1.82rows/s]\n"
     ]
    }
   ],
   "source": [
    "%%bigquery hours_of_trips\n",
    "\n",
    "SELECT subscriber_type, SUM(\n",
    "    CASE\n",
    "    WHEN time(CAST(start_date AS datetime) ) < \"1:00:00\"\n",
    "        THEN 1\n",
    "        ELSE 0\n",
    "        END\n",
    "    ) AS Trips_12AM,\n",
    "    SUM(\n",
    "        CASE\n",
    "            WHEN time(CAST(start_date AS datetime) ) < \"2:00:00\" AND time(CAST(start_date AS datetime) ) >= \"1:00:00\"\n",
    "            THEN 1\n",
    "            ELSE 0\n",
    "        END\n",
    "    ) AS Trips_1AM,\n",
    "    SUM(\n",
    "        CASE\n",
    "            WHEN time(CAST(start_date AS datetime) ) < \"3:00:00\" AND time(CAST(start_date AS datetime) ) >= \"2:00:00\"\n",
    "            THEN 1\n",
    "            ELSE 0\n",
    "        END\n",
    "    ) AS Trips_2AM,\n",
    "    SUM(\n",
    "        CASE\n",
    "            WHEN time(CAST(start_date AS datetime) ) < \"4:00:00\" AND time(CAST(start_date AS datetime) ) >= \"3:00:00\"\n",
    "            THEN 1\n",
    "            ELSE 0\n",
    "        END\n",
    "    ) AS Trips_3AM,\n",
    "    SUM(\n",
    "        CASE\n",
    "            WHEN time(CAST(start_date AS datetime) ) < \"5:00:00\" AND time(CAST(start_date AS datetime) ) >= \"4:00:00\"\n",
    "            THEN 1\n",
    "            ELSE 0\n",
    "        END\n",
    "    ) AS Trips_4AM,\n",
    "    SUM(\n",
    "        CASE\n",
    "            WHEN time(CAST(start_date AS datetime) ) < \"6:00:00\" AND time(CAST(start_date AS datetime) ) >= \"5:00:00\"\n",
    "            THEN 1\n",
    "            ELSE 0\n",
    "    END\n",
    "    ) AS Trips_5AM,\n",
    "    SUM(\n",
    "        CASE\n",
    "            WHEN time(CAST(start_date AS datetime) ) < \"7:00:00\" AND time(CAST(start_date AS datetime) ) >= \"6:00:00\"\n",
    "            THEN 1\n",
    "            ELSE 0\n",
    "    END\n",
    "    ) AS Trips_6AM,\n",
    "    SUM(\n",
    "        CASE\n",
    "            WHEN time(CAST(start_date AS datetime) ) < \"8:00:00\" AND time(CAST(start_date AS datetime) ) >= \"7:00:00\"\n",
    "            THEN 1\n",
    "            ELSE 0\n",
    "    END\n",
    "    ) AS Trips_7AM,\n",
    "    SUM(\n",
    "        CASE\n",
    "            WHEN time(CAST(start_date AS datetime) ) < \"9:00:00\" AND time(CAST(start_date AS datetime) ) >= \"8:00:00\"\n",
    "            THEN 1\n",
    "            ELSE 0\n",
    "    END\n",
    "    ) AS Trips_8AM,\n",
    "    SUM(\n",
    "        CASE\n",
    "            WHEN time(CAST(start_date AS datetime) ) < \"10:00:00\" AND time(CAST(start_date AS datetime) ) >= \"9:00:00\"\n",
    "            THEN 1\n",
    "            ELSE 0\n",
    "        END\n",
    "        ) AS Trips_9AM,\n",
    "        SUM(\n",
    "         CASE\n",
    "             WHEN time(CAST(start_date AS datetime) ) < \"11:00:00\" AND time(CAST(start_date AS datetime) ) >= \"10:00:00\"\n",
    "             THEN 1\n",
    "             ELSE 0\n",
    "         END\n",
    "        ) AS Trips_10AM,\n",
    "        SUM(\n",
    "         CASE\n",
    "             WHEN time(CAST(start_date AS datetime) ) < \"12:00:00\" AND time(CAST(start_date AS datetime) ) >= \"11:00:00\"\n",
    "             THEN 1\n",
    "             ELSE 0\n",
    "         END\n",
    "        ) AS Trips_11AM,\n",
    "        SUM(\n",
    "         CASE\n",
    "             WHEN time(CAST(start_date AS datetime) ) < \"13:00:00\" AND time(CAST(start_date AS datetime) ) >= \"12:00:00\"\n",
    "             THEN 1\n",
    "             ELSE 0\n",
    "         END\n",
    "        ) AS Trips_12PM,\n",
    "        SUM(\n",
    "         CASE\n",
    "             WHEN time(CAST(start_date AS datetime) ) < \"14:00:00\" AND time(CAST(start_date AS datetime) ) >= \"13:00:00\"\n",
    "             THEN 1\n",
    "             ELSE 0\n",
    "         END\n",
    "        ) AS Trips_1PM,\n",
    "        SUM(\n",
    "         CASE\n",
    "             WHEN time(CAST(start_date AS datetime) ) < \"15:00:00\" AND time(CAST(start_date AS datetime) ) >= \"14:00:00\"\n",
    "             THEN 1\n",
    "             ELSE 0\n",
    "         END\n",
    "        ) AS Trips_2PM,\n",
    "        SUM(\n",
    "         CASE\n",
    "             WHEN time(CAST(start_date AS datetime) ) < \"16:00:00\" AND time(CAST(start_date AS datetime) ) >= \"15:00:00\"\n",
    "             THEN 1\n",
    "             ELSE 0\n",
    "         END\n",
    "        ) AS Trips_3PM,\n",
    "        SUM(\n",
    "         CASE\n",
    "             WHEN time(CAST(start_date AS datetime) ) < \"17:00:00\" AND time(CAST(start_date AS datetime) ) >= \"16:00:00\"\n",
    "             THEN 1\n",
    "             ELSE 0\n",
    "         END\n",
    "        ) AS Trips_4PM,\n",
    "        SUM(\n",
    "         CASE\n",
    "             WHEN time(CAST(start_date AS datetime) ) < \"18:00:00\" AND time(CAST(start_date AS datetime) ) >= \"17:00:00\"\n",
    "             THEN 1\n",
    "             ELSE 0\n",
    "         END\n",
    "        ) AS Trips_5PM,\n",
    "        SUM(\n",
    "         CASE\n",
    "             WHEN time(CAST(start_date AS datetime) ) < \"19:00:00\" AND time(CAST(start_date AS datetime) ) >= \"18:00:00\"\n",
    "             THEN 1\n",
    "             ELSE 0\n",
    "         END\n",
    "        ) AS Trips_6PM,\n",
    "        SUM(\n",
    "         CASE\n",
    "             WHEN time(CAST(start_date AS datetime) ) < \"20:00:00\" AND time(CAST(start_date AS datetime) ) >= \"19:00:00\"\n",
    "             THEN 1\n",
    "             ELSE 0\n",
    "         END\n",
    "        ) AS Trips_7PM,\n",
    "        SUM(\n",
    "         CASE\n",
    "             WHEN time(CAST(start_date AS datetime) ) < \"21:00:00\" AND time(CAST(start_date AS datetime) ) >= \"20:00:00\"\n",
    "             THEN 1\n",
    "             ELSE 0\n",
    "         END\n",
    "        ) AS Trips_8PM,\n",
    "        SUM(\n",
    "         CASE\n",
    "             WHEN time(CAST(start_date AS datetime) ) < \"22:00:00\" AND time(CAST(start_date AS datetime) ) >= \"21:00:00\"\n",
    "             THEN 1\n",
    "             ELSE 0\n",
    "         END\n",
    "        ) AS Trips_9PM,\n",
    "        SUM(\n",
    "         CASE\n",
    "             WHEN time(CAST(start_date AS datetime) ) < \"23:00:00\" AND time(CAST(start_date AS datetime) ) >= \"22:00:00\"\n",
    "             THEN 1\n",
    "             ELSE 0\n",
    "         END\n",
    "        ) AS Trips_10PM,\n",
    "        SUM(\n",
    "         CASE\n",
    "             WHEN time(CAST(start_date AS datetime) ) >= \"23:00:00\"\n",
    "             THEN 1\n",
    "             ELSE 0\n",
    "         END\n",
    "        ) AS Trips_11PM\n",
    "FROM `bigquery-public-data.san_francisco.bikeshare_trips`\n",
    "Group By subscriber_type"
   ]
  },
  {
   "cell_type": "code",
   "execution_count": 22,
   "id": "dd1cd1ff",
   "metadata": {},
   "outputs": [
    {
     "data": {
      "text/html": [
       "<div>\n",
       "<style scoped>\n",
       "    .dataframe tbody tr th:only-of-type {\n",
       "        vertical-align: middle;\n",
       "    }\n",
       "\n",
       "    .dataframe tbody tr th {\n",
       "        vertical-align: top;\n",
       "    }\n",
       "\n",
       "    .dataframe thead th {\n",
       "        text-align: right;\n",
       "    }\n",
       "</style>\n",
       "<table border=\"1\" class=\"dataframe\">\n",
       "  <thead>\n",
       "    <tr style=\"text-align: right;\">\n",
       "      <th></th>\n",
       "      <th>subscriber_type</th>\n",
       "      <th>Trips_12AM</th>\n",
       "      <th>Trips_1AM</th>\n",
       "      <th>Trips_2AM</th>\n",
       "      <th>Trips_3AM</th>\n",
       "      <th>Trips_4AM</th>\n",
       "      <th>Trips_5AM</th>\n",
       "      <th>Trips_6AM</th>\n",
       "      <th>Trips_7AM</th>\n",
       "      <th>Trips_8AM</th>\n",
       "      <th>...</th>\n",
       "      <th>Trips_2PM</th>\n",
       "      <th>Trips_3PM</th>\n",
       "      <th>Trips_4PM</th>\n",
       "      <th>Trips_5PM</th>\n",
       "      <th>Trips_6PM</th>\n",
       "      <th>Trips_7PM</th>\n",
       "      <th>Trips_8PM</th>\n",
       "      <th>Trips_9PM</th>\n",
       "      <th>Trips_10PM</th>\n",
       "      <th>Trips_11PM</th>\n",
       "    </tr>\n",
       "  </thead>\n",
       "  <tbody>\n",
       "    <tr>\n",
       "      <th>0</th>\n",
       "      <td>Customer</td>\n",
       "      <td>848</td>\n",
       "      <td>639</td>\n",
       "      <td>413</td>\n",
       "      <td>208</td>\n",
       "      <td>160</td>\n",
       "      <td>303</td>\n",
       "      <td>945</td>\n",
       "      <td>2585</td>\n",
       "      <td>5293</td>\n",
       "      <td>...</td>\n",
       "      <td>12737</td>\n",
       "      <td>12806</td>\n",
       "      <td>12704</td>\n",
       "      <td>11387</td>\n",
       "      <td>8771</td>\n",
       "      <td>5556</td>\n",
       "      <td>3741</td>\n",
       "      <td>2808</td>\n",
       "      <td>2285</td>\n",
       "      <td>1493</td>\n",
       "    </tr>\n",
       "    <tr>\n",
       "      <th>1</th>\n",
       "      <td>Subscriber</td>\n",
       "      <td>2081</td>\n",
       "      <td>972</td>\n",
       "      <td>464</td>\n",
       "      <td>397</td>\n",
       "      <td>1238</td>\n",
       "      <td>4795</td>\n",
       "      <td>19574</td>\n",
       "      <td>64946</td>\n",
       "      <td>127171</td>\n",
       "      <td>...</td>\n",
       "      <td>25115</td>\n",
       "      <td>34820</td>\n",
       "      <td>76051</td>\n",
       "      <td>114915</td>\n",
       "      <td>75798</td>\n",
       "      <td>35515</td>\n",
       "      <td>19006</td>\n",
       "      <td>12450</td>\n",
       "      <td>7985</td>\n",
       "      <td>4702</td>\n",
       "    </tr>\n",
       "  </tbody>\n",
       "</table>\n",
       "<p>2 rows × 25 columns</p>\n",
       "</div>"
      ],
      "text/plain": [
       "  subscriber_type  Trips_12AM  Trips_1AM  Trips_2AM  Trips_3AM  Trips_4AM  \\\n",
       "0        Customer         848        639        413        208        160   \n",
       "1      Subscriber        2081        972        464        397       1238   \n",
       "\n",
       "   Trips_5AM  Trips_6AM  Trips_7AM  Trips_8AM  ...  Trips_2PM  Trips_3PM  \\\n",
       "0        303        945       2585       5293  ...      12737      12806   \n",
       "1       4795      19574      64946     127171  ...      25115      34820   \n",
       "\n",
       "   Trips_4PM  Trips_5PM  Trips_6PM  Trips_7PM  Trips_8PM  Trips_9PM  \\\n",
       "0      12704      11387       8771       5556       3741       2808   \n",
       "1      76051     114915      75798      35515      19006      12450   \n",
       "\n",
       "   Trips_10PM  Trips_11PM  \n",
       "0        2285        1493  \n",
       "1        7985        4702  \n",
       "\n",
       "[2 rows x 25 columns]"
      ]
     },
     "execution_count": 22,
     "metadata": {},
     "output_type": "execute_result"
    }
   ],
   "source": [
    "hours_of_trips\n"
   ]
  },
  {
   "cell_type": "code",
   "execution_count": 189,
   "id": "dbed5f77",
   "metadata": {},
   "outputs": [],
   "source": [
    "import numpy as np\n",
    "import pandas as pd\n",
    "import matplotlib.pyplot as plt\n",
    "import datetime\n",
    "import re\n",
    "import seaborn as sns"
   ]
  },
  {
   "cell_type": "code",
   "execution_count": 182,
   "id": "38a03709",
   "metadata": {},
   "outputs": [],
   "source": [
    "melted_hours = pd.melt(hours_of_trips, id_vars = 'subscriber_type', var_name = 'hour', value_name = 'trip_count' )\n",
    "melted_hours.hour = melted_hours.hour.str[6:]\n"
   ]
  },
  {
   "cell_type": "code",
   "execution_count": 44,
   "id": "6b47131a",
   "metadata": {},
   "outputs": [
    {
     "data": {
      "text/plain": [
       "Text(0.5, 1.0, 'Peak hours for subscribers are between 7AM-9AM and 4PM-6PM')"
      ]
     },
     "execution_count": 44,
     "metadata": {},
     "output_type": "execute_result"
    },
    {
     "data": {
      "image/png": "[encoded data removed]",
      "text/plain": [
       "<Figure size 864x432 with 1 Axes>"
      ]
     },
     "metadata": {},
     "output_type": "display_data"
    }
   ],
   "source": [
    "sns.set_style(\"whitegrid\", {'axes.grid' : False})\n",
    "plt.figure(figsize = (12,6))\n",
    "count_shape = sns.barplot(x = melted_hours.hour, y= melted_hours.trip_count, hue = melted_hours.subscriber_type)\n",
    "\n",
    "locs, labels = plt.xticks()\n",
    "plt.setp(labels, rotation=45)\n",
    "plt.ylabel('Total Trips')\n",
    "plt.xlabel('Hour of the Day')\n",
    "plt.title('Peak hours for subscribers are between 7AM-9AM and 4PM-6PM')"
   ]
  },
  {
   "cell_type": "markdown",
   "id": "9dcc55c1",
   "metadata": {},
   "source": [
    "As you can see, the peak hours for subscribers to ride is from7-9AM and 4-6PM. This is often hours when people are commuting to school or work. Non-subscribing customers on the other hand have a pretty consistent number of rides between 11AM-5PM. This coincides with daylight hours, meaning non-subscribers bike a pretty average amount throughout the day. There are no specific times with significantly increased ridership for commuting, going to lunch, or any other specific reason."
   ]
  },
  {
   "cell_type": "markdown",
   "id": "e2e8b209",
   "metadata": {},
   "source": [
    "### Average duration of subscriber versus customer trips"
   ]
  },
  {
   "cell_type": "markdown",
   "id": "1fad3109",
   "metadata": {},
   "source": [
    "Let's take a look into the average duration of trips taken by subscribers vs customers to get a better understanding of how customers are using our service. "
   ]
  },
  {
   "cell_type": "code",
   "execution_count": 194,
   "id": "607192b6",
   "metadata": {},
   "outputs": [
    {
     "name": "stderr",
     "output_type": "stream",
     "text": [
      "Query complete after 0.00s: 100%|██████████| 2/2 [00:00<00:00, 733.85query/s]                         \n",
      "Downloading: 100%|██████████| 2/2 [00:01<00:00,  1.11rows/s]\n"
     ]
    }
   ],
   "source": [
    "%%bigquery average_duration \n",
    "    SELECT subscriber_type, AVG(duration_sec) AS Avg_Subscriber_Duration\n",
    "        FROM `bigquery-public-data.san_francisco.bikeshare_trips`\n",
    "        GROUP BY subscriber_type\n"
   ]
  },
  {
   "cell_type": "code",
   "execution_count": 195,
   "id": "f33124e9",
   "metadata": {},
   "outputs": [
    {
     "data": {
      "text/html": [
       "<div>\n",
       "<style scoped>\n",
       "    .dataframe tbody tr th:only-of-type {\n",
       "        vertical-align: middle;\n",
       "    }\n",
       "\n",
       "    .dataframe tbody tr th {\n",
       "        vertical-align: top;\n",
       "    }\n",
       "\n",
       "    .dataframe thead th {\n",
       "        text-align: right;\n",
       "    }\n",
       "</style>\n",
       "<table border=\"1\" class=\"dataframe\">\n",
       "  <thead>\n",
       "    <tr style=\"text-align: right;\">\n",
       "      <th></th>\n",
       "      <th>subscriber_type</th>\n",
       "      <th>Avg_Subscriber_Duration</th>\n",
       "    </tr>\n",
       "  </thead>\n",
       "  <tbody>\n",
       "    <tr>\n",
       "      <th>0</th>\n",
       "      <td>Customer</td>\n",
       "      <td>3718.78516</td>\n",
       "    </tr>\n",
       "    <tr>\n",
       "      <th>1</th>\n",
       "      <td>Subscriber</td>\n",
       "      <td>582.76424</td>\n",
       "    </tr>\n",
       "  </tbody>\n",
       "</table>\n",
       "</div>"
      ],
      "text/plain": [
       "  subscriber_type  Avg_Subscriber_Duration\n",
       "0        Customer               3718.78516\n",
       "1      Subscriber                582.76424"
      ]
     },
     "execution_count": 195,
     "metadata": {},
     "output_type": "execute_result"
    }
   ],
   "source": [
    "average_duration"
   ]
  },
  {
   "cell_type": "code",
   "execution_count": 196,
   "id": "fa333fa6",
   "metadata": {},
   "outputs": [
    {
     "data": {
      "text/html": [
       "<div>\n",
       "<style scoped>\n",
       "    .dataframe tbody tr th:only-of-type {\n",
       "        vertical-align: middle;\n",
       "    }\n",
       "\n",
       "    .dataframe tbody tr th {\n",
       "        vertical-align: top;\n",
       "    }\n",
       "\n",
       "    .dataframe thead th {\n",
       "        text-align: right;\n",
       "    }\n",
       "</style>\n",
       "<table border=\"1\" class=\"dataframe\">\n",
       "  <thead>\n",
       "    <tr style=\"text-align: right;\">\n",
       "      <th></th>\n",
       "      <th>subscriber_type</th>\n",
       "      <th>Avg_Subscriber_Duration</th>\n",
       "    </tr>\n",
       "  </thead>\n",
       "  <tbody>\n",
       "    <tr>\n",
       "      <th>0</th>\n",
       "      <td>Customer</td>\n",
       "      <td>61.979753</td>\n",
       "    </tr>\n",
       "    <tr>\n",
       "      <th>1</th>\n",
       "      <td>Subscriber</td>\n",
       "      <td>9.712737</td>\n",
       "    </tr>\n",
       "  </tbody>\n",
       "</table>\n",
       "</div>"
      ],
      "text/plain": [
       "  subscriber_type  Avg_Subscriber_Duration\n",
       "0        Customer                61.979753\n",
       "1      Subscriber                 9.712737"
      ]
     },
     "execution_count": 196,
     "metadata": {},
     "output_type": "execute_result"
    }
   ],
   "source": [
    "#output the average duration of rides in minutes\n",
    "average_duration_2 = average_duration\n",
    "average_duration_2.Avg_Subscriber_Duration = average_duration_2.Avg_Subscriber_Duration.apply(lambda x: x / 60)\n",
    "average_duration_2"
   ]
  },
  {
   "cell_type": "markdown",
   "id": "0e96f8e1",
   "metadata": {},
   "source": [
    "This table output shows that the average duration of a customer's ride is 60 minutes, versus a subscriber's is 10 minutes. Let take a deeper look into trip duration based on start time of a ride to visualize the types of rides happening."
   ]
  },
  {
   "cell_type": "code",
   "execution_count": 132,
   "id": "6d0b3f97",
   "metadata": {},
   "outputs": [
    {
     "name": "stderr",
     "output_type": "stream",
     "text": [
      "Query complete after 0.00s: 100%|██████████| 1/1 [00:00<00:00, 429.66query/s] \n",
      "Downloading: 100%|██████████| 2/2 [00:00<00:00,  2.28rows/s]\n"
     ]
    }
   ],
   "source": [
    "%%bigquery duration_hours_test\n",
    "\n",
    "SELECT subscriber_type, AVG(\n",
    "    CASE\n",
    "    WHEN time(CAST(start_date AS datetime) ) < \"1:00:00\"\n",
    "        THEN duration_sec\n",
    "        END\n",
    "    ) AS Dur_12AM,\n",
    "    AVG(\n",
    "        CASE\n",
    "            WHEN time(CAST(start_date AS datetime) ) < \"2:00:00\" AND time(CAST(start_date AS datetime) ) >= \"1:00:00\"\n",
    "            THEN duration_sec\n",
    "        END\n",
    "    ) AS Dur_1AM,\n",
    "    AVG(\n",
    "        CASE\n",
    "            WHEN time(CAST(start_date AS datetime) ) < \"3:00:00\" AND time(CAST(start_date AS datetime) ) >= \"2:00:00\"\n",
    "            THEN duration_sec\n",
    "        END\n",
    "    ) AS Dur_2AM,\n",
    "    AVG(\n",
    "        CASE\n",
    "            WHEN time(CAST(start_date AS datetime) ) < \"4:00:00\" AND time(CAST(start_date AS datetime) ) >= \"3:00:00\"\n",
    "            THEN duration_sec\n",
    "        END\n",
    "    ) AS Dur_3AM,\n",
    "    AVG(\n",
    "        CASE\n",
    "            WHEN time(CAST(start_date AS datetime) ) < \"5:00:00\" AND time(CAST(start_date AS datetime) ) >= \"4:00:00\"\n",
    "            THEN duration_sec\n",
    "        END\n",
    "    ) AS Dur_4AM,\n",
    "    AVG(\n",
    "        CASE\n",
    "            WHEN time(CAST(start_date AS datetime) ) < \"6:00:00\" AND time(CAST(start_date AS datetime) ) >= \"5:00:00\"\n",
    "            THEN duration_sec\n",
    "    END\n",
    "    ) AS Dur_5AM,\n",
    "    AVG(\n",
    "        CASE\n",
    "            WHEN time(CAST(start_date AS datetime) ) < \"7:00:00\" AND time(CAST(start_date AS datetime) ) >= \"6:00:00\"\n",
    "            THEN duration_sec\n",
    "    END\n",
    "    ) AS Dur_6AM,\n",
    "    AVG(\n",
    "        CASE\n",
    "            WHEN time(CAST(start_date AS datetime) ) < \"8:00:00\" AND time(CAST(start_date AS datetime) ) >= \"7:00:00\"\n",
    "            THEN duration_sec\n",
    "    END\n",
    "    ) AS Dur_7AM,\n",
    "    AVG(\n",
    "        CASE\n",
    "            WHEN time(CAST(start_date AS datetime) ) < \"9:00:00\" AND time(CAST(start_date AS datetime) ) >= \"8:00:00\"\n",
    "            THEN duration_sec\n",
    "    END\n",
    "    ) AS Dur_8AM,\n",
    "    AVG(\n",
    "        CASE\n",
    "            WHEN time(CAST(start_date AS datetime) ) < \"10:00:00\" AND time(CAST(start_date AS datetime) ) >= \"9:00:00\"\n",
    "            THEN duration_sec\n",
    "        END\n",
    "        ) AS Dur_9AM,\n",
    "        AVG(\n",
    "         CASE\n",
    "             WHEN time(CAST(start_date AS datetime) ) < \"11:00:00\" AND time(CAST(start_date AS datetime) ) >= \"10:00:00\"\n",
    "             THEN duration_sec\n",
    "         END\n",
    "        ) AS Dur_10AM,\n",
    "        AVG(\n",
    "         CASE\n",
    "             WHEN time(CAST(start_date AS datetime) ) < \"12:00:00\" AND time(CAST(start_date AS datetime) ) >= \"11:00:00\"\n",
    "             THEN duration_sec\n",
    "         END\n",
    "        ) AS Dur_11AM,\n",
    "        AVG(\n",
    "         CASE\n",
    "             WHEN time(CAST(start_date AS datetime) ) < \"13:00:00\" AND time(CAST(start_date AS datetime) ) >= \"12:00:00\"\n",
    "             THEN duration_sec\n",
    "         END\n",
    "        ) AS Dur_12PM,\n",
    "        AVG(\n",
    "         CASE\n",
    "             WHEN time(CAST(start_date AS datetime) ) < \"14:00:00\" AND time(CAST(start_date AS datetime) ) >= \"13:00:00\"\n",
    "             THEN duration_sec\n",
    "         END\n",
    "        ) AS Dur_1PM,\n",
    "        AVG(\n",
    "         CASE\n",
    "             WHEN time(CAST(start_date AS datetime) ) < \"15:00:00\" AND time(CAST(start_date AS datetime) ) >= \"14:00:00\"\n",
    "             THEN duration_sec\n",
    "         END\n",
    "        ) AS Dur_2PM,\n",
    "        AVG(\n",
    "         CASE\n",
    "             WHEN time(CAST(start_date AS datetime) ) < \"16:00:00\" AND time(CAST(start_date AS datetime) ) >= \"15:00:00\"\n",
    "             THEN duration_sec\n",
    "         END\n",
    "        ) AS Dur_3PM,\n",
    "        AVG(\n",
    "         CASE\n",
    "             WHEN time(CAST(start_date AS datetime) ) < \"17:00:00\" AND time(CAST(start_date AS datetime) ) >= \"16:00:00\"\n",
    "             THEN duration_sec\n",
    "         END\n",
    "        ) AS Dur_4PM,\n",
    "        AVG(\n",
    "         CASE\n",
    "             WHEN time(CAST(start_date AS datetime) ) < \"18:00:00\" AND time(CAST(start_date AS datetime) ) >= \"17:00:00\"\n",
    "             THEN duration_sec\n",
    "         END\n",
    "        ) AS Dur_5PM,\n",
    "        AVG(\n",
    "         CASE\n",
    "             WHEN time(CAST(start_date AS datetime) ) < \"19:00:00\" AND time(CAST(start_date AS datetime) ) >= \"18:00:00\"\n",
    "             THEN duration_sec\n",
    "         END\n",
    "        ) AS Dur_6PM,\n",
    "        AVG(\n",
    "         CASE\n",
    "             WHEN time(CAST(start_date AS datetime) ) < \"20:00:00\" AND time(CAST(start_date AS datetime) ) >= \"19:00:00\"\n",
    "             THEN duration_sec\n",
    "         END\n",
    "        ) AS Dur_7PM,\n",
    "        AVG(\n",
    "         CASE\n",
    "             WHEN time(CAST(start_date AS datetime) ) < \"21:00:00\" AND time(CAST(start_date AS datetime) ) >= \"20:00:00\"\n",
    "             THEN duration_sec\n",
    "         END\n",
    "        ) AS Dur_8PM,\n",
    "        AVG(\n",
    "         CASE\n",
    "             WHEN time(CAST(start_date AS datetime) ) < \"22:00:00\" AND time(CAST(start_date AS datetime) ) >= \"21:00:00\"\n",
    "             THEN duration_sec\n",
    "         END\n",
    "        ) AS Dur_9PM,\n",
    "        AVG(\n",
    "         CASE\n",
    "             WHEN time(CAST(start_date AS datetime) ) < \"23:00:00\" AND time(CAST(start_date AS datetime) ) >= \"22:00:00\"\n",
    "             THEN duration_sec\n",
    "         END\n",
    "        ) AS Dur_10PM,\n",
    "        AVG(\n",
    "         CASE\n",
    "             WHEN time(CAST(start_date AS datetime) ) >= \"23:00:00\"\n",
    "             THEN duration_sec\n",
    "         END\n",
    "        ) AS Dur_11PM\n",
    "FROM `bigquery-public-data.san_francisco.bikeshare_trips`\n",
    "Group By subscriber_type"
   ]
  },
  {
   "cell_type": "code",
   "execution_count": 133,
   "id": "8c469d95",
   "metadata": {},
   "outputs": [
    {
     "data": {
      "text/html": [
       "<div>\n",
       "<style scoped>\n",
       "    .dataframe tbody tr th:only-of-type {\n",
       "        vertical-align: middle;\n",
       "    }\n",
       "\n",
       "    .dataframe tbody tr th {\n",
       "        vertical-align: top;\n",
       "    }\n",
       "\n",
       "    .dataframe thead th {\n",
       "        text-align: right;\n",
       "    }\n",
       "</style>\n",
       "<table border=\"1\" class=\"dataframe\">\n",
       "  <thead>\n",
       "    <tr style=\"text-align: right;\">\n",
       "      <th></th>\n",
       "      <th>subscriber_type</th>\n",
       "      <th>Dur_12AM</th>\n",
       "      <th>Dur_1AM</th>\n",
       "      <th>Dur_2AM</th>\n",
       "      <th>Dur_3AM</th>\n",
       "      <th>Dur_4AM</th>\n",
       "      <th>Dur_5AM</th>\n",
       "      <th>Dur_6AM</th>\n",
       "      <th>Dur_7AM</th>\n",
       "      <th>Dur_8AM</th>\n",
       "      <th>...</th>\n",
       "      <th>Dur_2PM</th>\n",
       "      <th>Dur_3PM</th>\n",
       "      <th>Dur_4PM</th>\n",
       "      <th>Dur_5PM</th>\n",
       "      <th>Dur_6PM</th>\n",
       "      <th>Dur_7PM</th>\n",
       "      <th>Dur_8PM</th>\n",
       "      <th>Dur_9PM</th>\n",
       "      <th>Dur_10PM</th>\n",
       "      <th>Dur_11PM</th>\n",
       "    </tr>\n",
       "  </thead>\n",
       "  <tbody>\n",
       "    <tr>\n",
       "      <th>0</th>\n",
       "      <td>Customer</td>\n",
       "      <td>4120.179245</td>\n",
       "      <td>6580.075117</td>\n",
       "      <td>8482.300242</td>\n",
       "      <td>22628.201923</td>\n",
       "      <td>7142.743750</td>\n",
       "      <td>9416.465347</td>\n",
       "      <td>4795.276190</td>\n",
       "      <td>3113.510638</td>\n",
       "      <td>2881.597204</td>\n",
       "      <td>...</td>\n",
       "      <td>3705.139122</td>\n",
       "      <td>3269.413322</td>\n",
       "      <td>3050.060375</td>\n",
       "      <td>2596.365592</td>\n",
       "      <td>2561.790104</td>\n",
       "      <td>2400.970482</td>\n",
       "      <td>2811.553863</td>\n",
       "      <td>9859.727208</td>\n",
       "      <td>3052.784683</td>\n",
       "      <td>4341.93637</td>\n",
       "    </tr>\n",
       "    <tr>\n",
       "      <th>1</th>\n",
       "      <td>Subscriber</td>\n",
       "      <td>560.671792</td>\n",
       "      <td>583.350823</td>\n",
       "      <td>732.420259</td>\n",
       "      <td>618.987406</td>\n",
       "      <td>409.635703</td>\n",
       "      <td>533.490928</td>\n",
       "      <td>652.693829</td>\n",
       "      <td>572.103932</td>\n",
       "      <td>574.989951</td>\n",
       "      <td>...</td>\n",
       "      <td>582.604858</td>\n",
       "      <td>586.363900</td>\n",
       "      <td>598.367595</td>\n",
       "      <td>576.956594</td>\n",
       "      <td>602.907610</td>\n",
       "      <td>591.235844</td>\n",
       "      <td>572.189151</td>\n",
       "      <td>595.348514</td>\n",
       "      <td>609.406011</td>\n",
       "      <td>587.20353</td>\n",
       "    </tr>\n",
       "  </tbody>\n",
       "</table>\n",
       "<p>2 rows × 25 columns</p>\n",
       "</div>"
      ],
      "text/plain": [
       "  subscriber_type     Dur_12AM      Dur_1AM      Dur_2AM       Dur_3AM  \\\n",
       "0        Customer  4120.179245  6580.075117  8482.300242  22628.201923   \n",
       "1      Subscriber   560.671792   583.350823   732.420259    618.987406   \n",
       "\n",
       "       Dur_4AM      Dur_5AM      Dur_6AM      Dur_7AM      Dur_8AM  ...  \\\n",
       "0  7142.743750  9416.465347  4795.276190  3113.510638  2881.597204  ...   \n",
       "1   409.635703   533.490928   652.693829   572.103932   574.989951  ...   \n",
       "\n",
       "       Dur_2PM      Dur_3PM      Dur_4PM      Dur_5PM      Dur_6PM  \\\n",
       "0  3705.139122  3269.413322  3050.060375  2596.365592  2561.790104   \n",
       "1   582.604858   586.363900   598.367595   576.956594   602.907610   \n",
       "\n",
       "       Dur_7PM      Dur_8PM      Dur_9PM     Dur_10PM    Dur_11PM  \n",
       "0  2400.970482  2811.553863  9859.727208  3052.784683  4341.93637  \n",
       "1   591.235844   572.189151   595.348514   609.406011   587.20353  \n",
       "\n",
       "[2 rows x 25 columns]"
      ]
     },
     "execution_count": 133,
     "metadata": {},
     "output_type": "execute_result"
    }
   ],
   "source": [
    "duration_hours_test"
   ]
  },
  {
   "cell_type": "code",
   "execution_count": 183,
   "id": "c64a54a3",
   "metadata": {},
   "outputs": [],
   "source": [
    "melted_duration_hours = pd.melt(duration_hours_test, id_vars = 'subscriber_type', var_name = 'hour', value_name = 'avg_duration_sec' )\n",
    "melted_duration_hours['hour'] = melted_hours['hour'].str[-4:]\n",
    "melted_duration_hours['avg_duration_min'] = melted_duration_hours['avg_duration_sec'].apply(lambda x: x/60)\n"
   ]
  },
  {
   "cell_type": "code",
   "execution_count": 159,
   "id": "adb046e7",
   "metadata": {},
   "outputs": [],
   "source": [
    "is_cust = melted_duration_hours['subscriber_type']== \"Customer\"\n",
    "cust_duration_hours = melted_duration_hours[is_cust]\n",
    "is_sub = melted_duration_hours['subscriber_type']== \"Subscriber\"\n",
    "sub_duration_hours = melted_duration_hours[is_sub]"
   ]
  },
  {
   "cell_type": "code",
   "execution_count": 197,
   "id": "a4b0be82",
   "metadata": {},
   "outputs": [
    {
     "name": "stdout",
     "output_type": "stream",
     "text": [
      "The maximum average trip length for a customer was 377.14 minutes or 6.29 hours, and the minimum average trip length for customer was 40.02 minutes\n",
      "The maximum average trip length for a subscriber was 12.21 minutes, and the minimum average trip length for a subscriber was 6.83 minuters\n"
     ]
    }
   ],
   "source": [
    "print(\"The maximum average trip length for a customer was\", round(max(cust_duration_hours.avg_duration_min),2), \"minutes or\", round(max(cust_duration_hours.avg_duration_min)/60,2), \"hours, and the minimum average trip length for customer was\", round(min(cust_duration_hours.avg_duration_min),2), \"minutes\")\n",
    "print(\"The maximum average trip length for a subscriber was\", round(max(sub_duration_hours.avg_duration_min),2),  \"minutes, and the minimum average trip length for a subscriber was\", round(min(sub_duration_hours.avg_duration_min),2), \"minuters\")"
   ]
  },
  {
   "cell_type": "code",
   "execution_count": 142,
   "id": "b0aba70f",
   "metadata": {},
   "outputs": [
    {
     "data": {
      "text/plain": [
       "Text(0.5, 1.0, 'Average duration of subscriber trips are 6x less than customer trips at 10min long')"
      ]
     },
     "execution_count": 142,
     "metadata": {},
     "output_type": "execute_result"
    },
    {
     "data": {
      "image/png": "[encoded data removed]",
      "text/plain": [
       "<Figure size 864x432 with 1 Axes>"
      ]
     },
     "metadata": {},
     "output_type": "display_data"
    }
   ],
   "source": [
    "sns.set_style(\"whitegrid\", {'axes.grid' : False})\n",
    "plt.figure(figsize = (12,6))\n",
    "count_shape = sns.barplot(x = melted_duration_hours.hour, y= melted_duration_hours.avg_duration_min, hue = melted_hours.subscriber_type)\n",
    "\n",
    "locs, labels = plt.xticks()\n",
    "plt.setp(labels, rotation=45)\n",
    "plt.ylabel('Average Trip Duration')\n",
    "plt.xlabel('Hour of the Day')\n",
    "plt.title('Average duration of subscriber trips are 6x less than customer trips at 10min long')"
   ]
  },
  {
   "cell_type": "markdown",
   "id": "eb1aeea2",
   "metadata": {},
   "source": [
    "From this graph, we can see that there is a significant difference in the types of trips subscribers are going on versus customers. Subscribers go on significantly shorter trips with a maximum average trip length of 12 min. Customers go on much longer trips with a maximum average trip length of 6 hours."
   ]
  },
  {
   "cell_type": "markdown",
   "id": "ab4ea2d7",
   "metadata": {},
   "source": [
    "### Defining a commuter trip"
   ]
  },
  {
   "cell_type": "markdown",
   "id": "57c0b3c5",
   "metadata": {},
   "source": [
    "Given this difference in trip duration, it is fair to say that most subscribers use the service to get quickly from one place to another, where customers that have 1-3 day passes to access the bikes often use the bikes on longer trips. To define a commuter trip, I will use the Subscriber subscriber type because they often take quick trips as a mode of transportation and they are regular customers due to the subscription nature of their membership. In addition, I will use the peak riding hours from 7AM-9AM and 4PM-6PM as the times commuters are riding bikes. Not only were these times when subscribers were riding most often, they also coincide with when people are normally going to and from school or work. Lastly, I will use the criteria that the start and end destination are not the same to define a commuter trip. This makes sense because if someone is commuting, they are traveling to a particular destination. They wouldn't be starting and ending in the same location. \n",
    "With these 3 criteria, the following code will assist in defining the five most popular commuter trips."
   ]
  },
  {
   "cell_type": "markdown",
   "id": "759637ad",
   "metadata": {},
   "source": [
    "### Morining top 5 commuter trips"
   ]
  },
  {
   "cell_type": "code",
   "execution_count": 78,
   "id": "2afa7380",
   "metadata": {},
   "outputs": [
    {
     "name": "stderr",
     "output_type": "stream",
     "text": [
      "Query complete after 0.01s: 100%|██████████| 3/3 [00:00<00:00, 758.33query/s]                         \n",
      "Downloading: 100%|██████████| 1550/1550 [00:00<00:00, 1712.27rows/s]\n"
     ]
    }
   ],
   "source": [
    "%%bigquery am_commuter_trips\n",
    "    SELECT start_station_name, end_station_name, count(end_station_id) AS Trips_Count\n",
    "        FROM `bigquery-public-data.san_francisco.bikeshare_trips`\n",
    "        WHERE subscriber_type = \"Subscriber\" AND start_station_name <> end_station_name AND (((time(CAST(start_date AS datetime) ) < \"9:00:00\" AND  time(CAST(start_date AS datetime) ) >= \"7:00:00\") ))\n",
    "        GROUP BY start_station_name, end_station_name\n",
    "        ORDER BY Trips_Count DESC"
   ]
  },
  {
   "cell_type": "code",
   "execution_count": 83,
   "id": "0b0f4eed",
   "metadata": {},
   "outputs": [
    {
     "data": {
      "text/html": [
       "<div>\n",
       "<style scoped>\n",
       "    .dataframe tbody tr th:only-of-type {\n",
       "        vertical-align: middle;\n",
       "    }\n",
       "\n",
       "    .dataframe tbody tr th {\n",
       "        vertical-align: top;\n",
       "    }\n",
       "\n",
       "    .dataframe thead th {\n",
       "        text-align: right;\n",
       "    }\n",
       "</style>\n",
       "<table border=\"1\" class=\"dataframe\">\n",
       "  <thead>\n",
       "    <tr style=\"text-align: right;\">\n",
       "      <th></th>\n",
       "      <th>start_station_name</th>\n",
       "      <th>end_station_name</th>\n",
       "      <th>Trips_Count</th>\n",
       "      <th>time_of_day</th>\n",
       "    </tr>\n",
       "  </thead>\n",
       "  <tbody>\n",
       "    <tr>\n",
       "      <th>0</th>\n",
       "      <td>Harry Bridges Plaza (Ferry Building)</td>\n",
       "      <td>2nd at Townsend</td>\n",
       "      <td>3659</td>\n",
       "      <td>AM</td>\n",
       "    </tr>\n",
       "    <tr>\n",
       "      <th>1</th>\n",
       "      <td>San Francisco Caltrain (Townsend at 4th)</td>\n",
       "      <td>Embarcadero at Folsom</td>\n",
       "      <td>2598</td>\n",
       "      <td>AM</td>\n",
       "    </tr>\n",
       "    <tr>\n",
       "      <th>2</th>\n",
       "      <td>San Francisco Caltrain (Townsend at 4th)</td>\n",
       "      <td>Harry Bridges Plaza (Ferry Building)</td>\n",
       "      <td>2520</td>\n",
       "      <td>AM</td>\n",
       "    </tr>\n",
       "    <tr>\n",
       "      <th>3</th>\n",
       "      <td>San Francisco Caltrain (Townsend at 4th)</td>\n",
       "      <td>Temporary Transbay Terminal (Howard at Beale)</td>\n",
       "      <td>2321</td>\n",
       "      <td>AM</td>\n",
       "    </tr>\n",
       "    <tr>\n",
       "      <th>4</th>\n",
       "      <td>San Francisco Caltrain (Townsend at 4th)</td>\n",
       "      <td>Steuart at Market</td>\n",
       "      <td>2189</td>\n",
       "      <td>AM</td>\n",
       "    </tr>\n",
       "  </tbody>\n",
       "</table>\n",
       "</div>"
      ],
      "text/plain": [
       "                         start_station_name  \\\n",
       "0      Harry Bridges Plaza (Ferry Building)   \n",
       "1  San Francisco Caltrain (Townsend at 4th)   \n",
       "2  San Francisco Caltrain (Townsend at 4th)   \n",
       "3  San Francisco Caltrain (Townsend at 4th)   \n",
       "4  San Francisco Caltrain (Townsend at 4th)   \n",
       "\n",
       "                                end_station_name  Trips_Count time_of_day  \n",
       "0                                2nd at Townsend         3659          AM  \n",
       "1                          Embarcadero at Folsom         2598          AM  \n",
       "2           Harry Bridges Plaza (Ferry Building)         2520          AM  \n",
       "3  Temporary Transbay Terminal (Howard at Beale)         2321          AM  \n",
       "4                              Steuart at Market         2189          AM  "
      ]
     },
     "execution_count": 83,
     "metadata": {},
     "output_type": "execute_result"
    }
   ],
   "source": [
    "am_commuter_trips['time_of_day'] = 'AM'\n",
    "am_commuter_trips.head()"
   ]
  },
  {
   "cell_type": "markdown",
   "id": "f1d4668d",
   "metadata": {},
   "source": [
    "### Evening top 5 commuter trips"
   ]
  },
  {
   "cell_type": "code",
   "execution_count": 75,
   "id": "0d943cdb",
   "metadata": {},
   "outputs": [
    {
     "name": "stderr",
     "output_type": "stream",
     "text": [
      "Query complete after 0.00s: 100%|██████████| 3/3 [00:00<00:00, 1663.97query/s]                        \n",
      "Downloading: 100%|██████████| 1718/1718 [00:00<00:00, 1908.91rows/s]\n"
     ]
    }
   ],
   "source": [
    "%%bigquery pm_commuter_trips\n",
    "    SELECT start_station_name, end_station_name, count(end_station_id) AS Trips_Count\n",
    "        FROM `bigquery-public-data.san_francisco.bikeshare_trips`\n",
    "        WHERE subscriber_type = \"Subscriber\" AND start_station_name <> end_station_name AND ( (time(CAST(start_date AS datetime) ) < \"18:00:00\" AND  time(CAST(start_date AS datetime) ) >= \"16:00:00\"))\n",
    "        GROUP BY start_station_name, end_station_name\n",
    "        ORDER BY Trips_Count DESC"
   ]
  },
  {
   "cell_type": "code",
   "execution_count": 80,
   "id": "d55b3e00",
   "metadata": {},
   "outputs": [],
   "source": [
    "pm_commuter_trips['time_of_day'] = 'PM'"
   ]
  },
  {
   "cell_type": "code",
   "execution_count": 82,
   "id": "24d1fe78",
   "metadata": {},
   "outputs": [
    {
     "data": {
      "text/html": [
       "<div>\n",
       "<style scoped>\n",
       "    .dataframe tbody tr th:only-of-type {\n",
       "        vertical-align: middle;\n",
       "    }\n",
       "\n",
       "    .dataframe tbody tr th {\n",
       "        vertical-align: top;\n",
       "    }\n",
       "\n",
       "    .dataframe thead th {\n",
       "        text-align: right;\n",
       "    }\n",
       "</style>\n",
       "<table border=\"1\" class=\"dataframe\">\n",
       "  <thead>\n",
       "    <tr style=\"text-align: right;\">\n",
       "      <th></th>\n",
       "      <th>start_station_name</th>\n",
       "      <th>end_station_name</th>\n",
       "      <th>Trips_Count</th>\n",
       "      <th>time_of_day</th>\n",
       "    </tr>\n",
       "  </thead>\n",
       "  <tbody>\n",
       "    <tr>\n",
       "      <th>0</th>\n",
       "      <td>2nd at Townsend</td>\n",
       "      <td>Harry Bridges Plaza (Ferry Building)</td>\n",
       "      <td>3457</td>\n",
       "      <td>PM</td>\n",
       "    </tr>\n",
       "    <tr>\n",
       "      <th>1</th>\n",
       "      <td>Embarcadero at Folsom</td>\n",
       "      <td>San Francisco Caltrain (Townsend at 4th)</td>\n",
       "      <td>3331</td>\n",
       "      <td>PM</td>\n",
       "    </tr>\n",
       "    <tr>\n",
       "      <th>2</th>\n",
       "      <td>Embarcadero at Sansome</td>\n",
       "      <td>Steuart at Market</td>\n",
       "      <td>2936</td>\n",
       "      <td>PM</td>\n",
       "    </tr>\n",
       "    <tr>\n",
       "      <th>3</th>\n",
       "      <td>Steuart at Market</td>\n",
       "      <td>San Francisco Caltrain (Townsend at 4th)</td>\n",
       "      <td>2774</td>\n",
       "      <td>PM</td>\n",
       "    </tr>\n",
       "    <tr>\n",
       "      <th>4</th>\n",
       "      <td>Temporary Transbay Terminal (Howard at Beale)</td>\n",
       "      <td>San Francisco Caltrain (Townsend at 4th)</td>\n",
       "      <td>2724</td>\n",
       "      <td>PM</td>\n",
       "    </tr>\n",
       "  </tbody>\n",
       "</table>\n",
       "</div>"
      ],
      "text/plain": [
       "                              start_station_name  \\\n",
       "0                                2nd at Townsend   \n",
       "1                          Embarcadero at Folsom   \n",
       "2                         Embarcadero at Sansome   \n",
       "3                              Steuart at Market   \n",
       "4  Temporary Transbay Terminal (Howard at Beale)   \n",
       "\n",
       "                           end_station_name  Trips_Count time_of_day  \n",
       "0      Harry Bridges Plaza (Ferry Building)         3457          PM  \n",
       "1  San Francisco Caltrain (Townsend at 4th)         3331          PM  \n",
       "2                         Steuart at Market         2936          PM  \n",
       "3  San Francisco Caltrain (Townsend at 4th)         2774          PM  \n",
       "4  San Francisco Caltrain (Townsend at 4th)         2724          PM  "
      ]
     },
     "execution_count": 82,
     "metadata": {},
     "output_type": "execute_result"
    }
   ],
   "source": [
    "pm_commuter_trips.head()"
   ]
  },
  {
   "cell_type": "markdown",
   "id": "53e1164d",
   "metadata": {},
   "source": [
    "### Most popular AM and PM commuter trips"
   ]
  },
  {
   "cell_type": "code",
   "execution_count": 172,
   "id": "f9de9829",
   "metadata": {},
   "outputs": [],
   "source": [
    "commuter_trips = pm_commuter_trips[0:5].append(am_commuter_trips[0:5])"
   ]
  },
  {
   "cell_type": "code",
   "execution_count": 173,
   "id": "0eb5bdb3",
   "metadata": {},
   "outputs": [],
   "source": [
    "commuter_trips = commuter_trips.sort_values('Trips_Count',ascending = False)"
   ]
  },
  {
   "cell_type": "code",
   "execution_count": 174,
   "id": "3cf8f9cd",
   "metadata": {},
   "outputs": [
    {
     "data": {
      "text/html": [
       "<div>\n",
       "<style scoped>\n",
       "    .dataframe tbody tr th:only-of-type {\n",
       "        vertical-align: middle;\n",
       "    }\n",
       "\n",
       "    .dataframe tbody tr th {\n",
       "        vertical-align: top;\n",
       "    }\n",
       "\n",
       "    .dataframe thead th {\n",
       "        text-align: right;\n",
       "    }\n",
       "</style>\n",
       "<table border=\"1\" class=\"dataframe\">\n",
       "  <thead>\n",
       "    <tr style=\"text-align: right;\">\n",
       "      <th></th>\n",
       "      <th>start_station_name</th>\n",
       "      <th>end_station_name</th>\n",
       "      <th>Trips_Count</th>\n",
       "      <th>time_of_day</th>\n",
       "    </tr>\n",
       "  </thead>\n",
       "  <tbody>\n",
       "    <tr>\n",
       "      <th>0</th>\n",
       "      <td>Harry Bridges Plaza (Ferry Building)</td>\n",
       "      <td>2nd at Townsend</td>\n",
       "      <td>3659</td>\n",
       "      <td>AM</td>\n",
       "    </tr>\n",
       "    <tr>\n",
       "      <th>1</th>\n",
       "      <td>2nd at Townsend</td>\n",
       "      <td>Harry Bridges Plaza (Ferry Building)</td>\n",
       "      <td>3457</td>\n",
       "      <td>PM</td>\n",
       "    </tr>\n",
       "    <tr>\n",
       "      <th>2</th>\n",
       "      <td>Embarcadero at Folsom</td>\n",
       "      <td>San Francisco Caltrain (Townsend at 4th)</td>\n",
       "      <td>3331</td>\n",
       "      <td>PM</td>\n",
       "    </tr>\n",
       "    <tr>\n",
       "      <th>3</th>\n",
       "      <td>Embarcadero at Sansome</td>\n",
       "      <td>Steuart at Market</td>\n",
       "      <td>2936</td>\n",
       "      <td>PM</td>\n",
       "    </tr>\n",
       "    <tr>\n",
       "      <th>4</th>\n",
       "      <td>Steuart at Market</td>\n",
       "      <td>San Francisco Caltrain (Townsend at 4th)</td>\n",
       "      <td>2774</td>\n",
       "      <td>PM</td>\n",
       "    </tr>\n",
       "    <tr>\n",
       "      <th>5</th>\n",
       "      <td>Temporary Transbay Terminal (Howard at Beale)</td>\n",
       "      <td>San Francisco Caltrain (Townsend at 4th)</td>\n",
       "      <td>2724</td>\n",
       "      <td>PM</td>\n",
       "    </tr>\n",
       "    <tr>\n",
       "      <th>6</th>\n",
       "      <td>San Francisco Caltrain (Townsend at 4th)</td>\n",
       "      <td>Embarcadero at Folsom</td>\n",
       "      <td>2598</td>\n",
       "      <td>AM</td>\n",
       "    </tr>\n",
       "    <tr>\n",
       "      <th>7</th>\n",
       "      <td>San Francisco Caltrain (Townsend at 4th)</td>\n",
       "      <td>Harry Bridges Plaza (Ferry Building)</td>\n",
       "      <td>2520</td>\n",
       "      <td>AM</td>\n",
       "    </tr>\n",
       "    <tr>\n",
       "      <th>8</th>\n",
       "      <td>San Francisco Caltrain (Townsend at 4th)</td>\n",
       "      <td>Temporary Transbay Terminal (Howard at Beale)</td>\n",
       "      <td>2321</td>\n",
       "      <td>AM</td>\n",
       "    </tr>\n",
       "    <tr>\n",
       "      <th>9</th>\n",
       "      <td>San Francisco Caltrain (Townsend at 4th)</td>\n",
       "      <td>Steuart at Market</td>\n",
       "      <td>2189</td>\n",
       "      <td>AM</td>\n",
       "    </tr>\n",
       "  </tbody>\n",
       "</table>\n",
       "</div>"
      ],
      "text/plain": [
       "                              start_station_name  \\\n",
       "0           Harry Bridges Plaza (Ferry Building)   \n",
       "1                                2nd at Townsend   \n",
       "2                          Embarcadero at Folsom   \n",
       "3                         Embarcadero at Sansome   \n",
       "4                              Steuart at Market   \n",
       "5  Temporary Transbay Terminal (Howard at Beale)   \n",
       "6       San Francisco Caltrain (Townsend at 4th)   \n",
       "7       San Francisco Caltrain (Townsend at 4th)   \n",
       "8       San Francisco Caltrain (Townsend at 4th)   \n",
       "9       San Francisco Caltrain (Townsend at 4th)   \n",
       "\n",
       "                                end_station_name  Trips_Count time_of_day  \n",
       "0                                2nd at Townsend         3659          AM  \n",
       "1           Harry Bridges Plaza (Ferry Building)         3457          PM  \n",
       "2       San Francisco Caltrain (Townsend at 4th)         3331          PM  \n",
       "3                              Steuart at Market         2936          PM  \n",
       "4       San Francisco Caltrain (Townsend at 4th)         2774          PM  \n",
       "5       San Francisco Caltrain (Townsend at 4th)         2724          PM  \n",
       "6                          Embarcadero at Folsom         2598          AM  \n",
       "7           Harry Bridges Plaza (Ferry Building)         2520          AM  \n",
       "8  Temporary Transbay Terminal (Howard at Beale)         2321          AM  \n",
       "9                              Steuart at Market         2189          AM  "
      ]
     },
     "execution_count": 174,
     "metadata": {},
     "output_type": "execute_result"
    }
   ],
   "source": [
    "commuter_trips.reset_index(drop=True, inplace=True) \n",
    "commuter_trips"
   ]
  },
  {
   "cell_type": "markdown",
   "id": "8cdaf9b5",
   "metadata": {},
   "source": [
    "### Top 5 Commuter Trips"
   ]
  },
  {
   "cell_type": "markdown",
   "id": "36699a6f",
   "metadata": {},
   "source": [
    "The above table defines the top 10 commuter trips, given the specfic criteria listed below for a commuter trip.\n",
    " * start and end destination differ\n",
    " * subscriber is the subscriber type\n",
    " * trip is between 7-9AM or 4-6PM\n",
    "\n",
    "The top five commuter trips are listed below."
   ]
  },
  {
   "cell_type": "code",
   "execution_count": 175,
   "id": "041e3c42",
   "metadata": {},
   "outputs": [
    {
     "data": {
      "text/html": [
       "<div>\n",
       "<style scoped>\n",
       "    .dataframe tbody tr th:only-of-type {\n",
       "        vertical-align: middle;\n",
       "    }\n",
       "\n",
       "    .dataframe tbody tr th {\n",
       "        vertical-align: top;\n",
       "    }\n",
       "\n",
       "    .dataframe thead th {\n",
       "        text-align: right;\n",
       "    }\n",
       "</style>\n",
       "<table border=\"1\" class=\"dataframe\">\n",
       "  <thead>\n",
       "    <tr style=\"text-align: right;\">\n",
       "      <th></th>\n",
       "      <th>start_station_name</th>\n",
       "      <th>end_station_name</th>\n",
       "      <th>Trips_Count</th>\n",
       "      <th>time_of_day</th>\n",
       "    </tr>\n",
       "  </thead>\n",
       "  <tbody>\n",
       "    <tr>\n",
       "      <th>0</th>\n",
       "      <td>Harry Bridges Plaza (Ferry Building)</td>\n",
       "      <td>2nd at Townsend</td>\n",
       "      <td>3659</td>\n",
       "      <td>AM</td>\n",
       "    </tr>\n",
       "    <tr>\n",
       "      <th>1</th>\n",
       "      <td>2nd at Townsend</td>\n",
       "      <td>Harry Bridges Plaza (Ferry Building)</td>\n",
       "      <td>3457</td>\n",
       "      <td>PM</td>\n",
       "    </tr>\n",
       "    <tr>\n",
       "      <th>2</th>\n",
       "      <td>Embarcadero at Folsom</td>\n",
       "      <td>San Francisco Caltrain (Townsend at 4th)</td>\n",
       "      <td>3331</td>\n",
       "      <td>PM</td>\n",
       "    </tr>\n",
       "    <tr>\n",
       "      <th>3</th>\n",
       "      <td>Embarcadero at Sansome</td>\n",
       "      <td>Steuart at Market</td>\n",
       "      <td>2936</td>\n",
       "      <td>PM</td>\n",
       "    </tr>\n",
       "    <tr>\n",
       "      <th>4</th>\n",
       "      <td>Steuart at Market</td>\n",
       "      <td>San Francisco Caltrain (Townsend at 4th)</td>\n",
       "      <td>2774</td>\n",
       "      <td>PM</td>\n",
       "    </tr>\n",
       "  </tbody>\n",
       "</table>\n",
       "</div>"
      ],
      "text/plain": [
       "                     start_station_name  \\\n",
       "0  Harry Bridges Plaza (Ferry Building)   \n",
       "1                       2nd at Townsend   \n",
       "2                 Embarcadero at Folsom   \n",
       "3                Embarcadero at Sansome   \n",
       "4                     Steuart at Market   \n",
       "\n",
       "                           end_station_name  Trips_Count time_of_day  \n",
       "0                           2nd at Townsend         3659          AM  \n",
       "1      Harry Bridges Plaza (Ferry Building)         3457          PM  \n",
       "2  San Francisco Caltrain (Townsend at 4th)         3331          PM  \n",
       "3                         Steuart at Market         2936          PM  \n",
       "4  San Francisco Caltrain (Townsend at 4th)         2774          PM  "
      ]
     },
     "execution_count": 175,
     "metadata": {},
     "output_type": "execute_result"
    }
   ],
   "source": [
    "commuter_trips[:5]"
   ]
  },
  {
   "cell_type": "markdown",
   "id": "90f570b9",
   "metadata": {},
   "source": [
    "### Non-Commuter/ Customer Trips"
   ]
  },
  {
   "cell_type": "markdown",
   "id": "16cf7dee",
   "metadata": {},
   "source": [
    "- one time purchase customers are the main customers for this customer type\n",
    "- start and end station could be the same\n",
    "- hours of the day 10AM - 5PM: daylight hours not during commuting times\n",
    "- which months of the year do they ride most often\n",
    "- average duration ~1 hr"
   ]
  },
  {
   "cell_type": "markdown",
   "id": "f1c4b779",
   "metadata": {},
   "source": [
    "Let's take another look at the hours of the day customer subscriber types take bike trips."
   ]
  },
  {
   "cell_type": "code",
   "execution_count": 176,
   "id": "58a37ac8",
   "metadata": {},
   "outputs": [
    {
     "data": {
      "text/plain": [
       "Text(0.5, 1.0, 'Peak hours for subscribers are between 7AM-9AM and 4PM-6PM')"
      ]
     },
     "execution_count": 176,
     "metadata": {},
     "output_type": "execute_result"
    },
    {
     "data": {
      "image/png": "[encoded data removed]",
      "text/plain": [
       "<Figure size 864x432 with 1 Axes>"
      ]
     },
     "metadata": {},
     "output_type": "display_data"
    }
   ],
   "source": [
    "sns.set_style(\"whitegrid\", {'axes.grid' : False})\n",
    "plt.figure(figsize = (12,6))\n",
    "count_shape = sns.barplot(x = melted_hours.hour, y= melted_hours.trip_count, hue = melted_hours.subscriber_type)\n",
    "\n",
    "locs, labels = plt.xticks()\n",
    "plt.setp(labels, rotation=45)\n",
    "plt.ylabel('Total Trips')\n",
    "plt.xlabel('Hour of the Day')\n",
    "plt.title('Peak hours for subscribers are between 7AM-9AM and 4PM-6PM')"
   ]
  },
  {
   "cell_type": "markdown",
   "id": "6542d324",
   "metadata": {},
   "source": [
    "Most customers take trips during daylight hours between 11AM and 4PM. This is most likely because customers are taking trips for leisure, not during normal commuter times. Let's see if there is a specific time of the year where customers ride more often."
   ]
  },
  {
   "cell_type": "code",
   "execution_count": 177,
   "id": "f313a855",
   "metadata": {},
   "outputs": [
    {
     "name": "stderr",
     "output_type": "stream",
     "text": [
      "Query complete after 0.01s: 100%|██████████| 3/3 [00:00<00:00, 838.97query/s]                         \n",
      "Downloading: 100%|██████████| 12/12 [00:01<00:00, 11.56rows/s]\n"
     ]
    }
   ],
   "source": [
    "%%bigquery cust_trips_month\n",
    "  SELECT  Count(*) AS Rides, EXTRACT(Month from Cast(start_date AS datetime)) AS Month\n",
    "    FROM `bigquery-public-data.san_francisco.bikeshare_trips`\n",
    "    WHERE subscriber_type = \"Customer\"\n",
    "    GROUP BY Month\n",
    "    ORDER BY Month"
   ]
  },
  {
   "cell_type": "code",
   "execution_count": 178,
   "id": "03c41659",
   "metadata": {},
   "outputs": [
    {
     "data": {
      "text/html": [
       "<div>\n",
       "<style scoped>\n",
       "    .dataframe tbody tr th:only-of-type {\n",
       "        vertical-align: middle;\n",
       "    }\n",
       "\n",
       "    .dataframe tbody tr th {\n",
       "        vertical-align: top;\n",
       "    }\n",
       "\n",
       "    .dataframe thead th {\n",
       "        text-align: right;\n",
       "    }\n",
       "</style>\n",
       "<table border=\"1\" class=\"dataframe\">\n",
       "  <thead>\n",
       "    <tr style=\"text-align: right;\">\n",
       "      <th></th>\n",
       "      <th>Rides</th>\n",
       "      <th>Month</th>\n",
       "    </tr>\n",
       "  </thead>\n",
       "  <tbody>\n",
       "    <tr>\n",
       "      <th>0</th>\n",
       "      <td>7713</td>\n",
       "      <td>1</td>\n",
       "    </tr>\n",
       "    <tr>\n",
       "      <th>1</th>\n",
       "      <td>7862</td>\n",
       "      <td>2</td>\n",
       "    </tr>\n",
       "    <tr>\n",
       "      <th>2</th>\n",
       "      <td>10158</td>\n",
       "      <td>3</td>\n",
       "    </tr>\n",
       "    <tr>\n",
       "      <th>3</th>\n",
       "      <td>9978</td>\n",
       "      <td>4</td>\n",
       "    </tr>\n",
       "    <tr>\n",
       "      <th>4</th>\n",
       "      <td>12741</td>\n",
       "      <td>5</td>\n",
       "    </tr>\n",
       "    <tr>\n",
       "      <th>5</th>\n",
       "      <td>12147</td>\n",
       "      <td>6</td>\n",
       "    </tr>\n",
       "    <tr>\n",
       "      <th>6</th>\n",
       "      <td>13152</td>\n",
       "      <td>7</td>\n",
       "    </tr>\n",
       "    <tr>\n",
       "      <th>7</th>\n",
       "      <td>15543</td>\n",
       "      <td>8</td>\n",
       "    </tr>\n",
       "    <tr>\n",
       "      <th>8</th>\n",
       "      <td>17310</td>\n",
       "      <td>9</td>\n",
       "    </tr>\n",
       "    <tr>\n",
       "      <th>9</th>\n",
       "      <td>14038</td>\n",
       "      <td>10</td>\n",
       "    </tr>\n",
       "    <tr>\n",
       "      <th>10</th>\n",
       "      <td>9371</td>\n",
       "      <td>11</td>\n",
       "    </tr>\n",
       "    <tr>\n",
       "      <th>11</th>\n",
       "      <td>6796</td>\n",
       "      <td>12</td>\n",
       "    </tr>\n",
       "  </tbody>\n",
       "</table>\n",
       "</div>"
      ],
      "text/plain": [
       "    Rides  Month\n",
       "0    7713      1\n",
       "1    7862      2\n",
       "2   10158      3\n",
       "3    9978      4\n",
       "4   12741      5\n",
       "5   12147      6\n",
       "6   13152      7\n",
       "7   15543      8\n",
       "8   17310      9\n",
       "9   14038     10\n",
       "10   9371     11\n",
       "11   6796     12"
      ]
     },
     "execution_count": 178,
     "metadata": {},
     "output_type": "execute_result"
    }
   ],
   "source": [
    "cust_trips_month"
   ]
  },
  {
   "cell_type": "code",
   "execution_count": 199,
   "id": "d27a0d7b",
   "metadata": {},
   "outputs": [
    {
     "name": "stdout",
     "output_type": "stream",
     "text": [
      "The difference in average rides between early summer months and later summer months is about 2950.0 rides\n"
     ]
    }
   ],
   "source": [
    "early_sum = cust_trips_month.Month.isin([5,6,7])\n",
    "late_sum = cust_trips_month.Month.isin([8,9,10])\n",
    "x = (sum(cust_trips_month.Rides[late_sum])/3) - (sum(cust_trips_month.Rides[early_sum])/3)\n",
    "print(\"The difference in average rides between early summer months and later summer months is about\",round(x,0), \"rides\")"
   ]
  },
  {
   "cell_type": "code",
   "execution_count": 180,
   "id": "a0614532",
   "metadata": {},
   "outputs": [
    {
     "data": {
      "text/plain": [
       "Text(0.5, 1.0, 'Customers take trips most often between August and October')"
      ]
     },
     "execution_count": 180,
     "metadata": {},
     "output_type": "execute_result"
    },
    {
     "data": {
      "image/png": "[encoded data removed]",
      "text/plain": [
       "<Figure size 864x432 with 1 Axes>"
      ]
     },
     "metadata": {},
     "output_type": "display_data"
    }
   ],
   "source": [
    "sns.set_style(\"whitegrid\", {'axes.grid' : False})\n",
    "plt.figure(figsize = (12,6))\n",
    "count_shape = sns.barplot(x = cust_trips_month.Month, y= cust_trips_month.Rides)\n",
    "\n",
    "locs, labels = plt.xticks()\n",
    "plt.setp(labels, rotation=45)\n",
    "plt.ylabel('Total Trips')\n",
    "plt.xlabel('Month of the Year')\n",
    "plt.title('Customers take trips most often between August and October')"
   ]
  },
  {
   "cell_type": "markdown",
   "id": "a08d80fe",
   "metadata": {},
   "source": [
    "Given this information about customers and remembering that the average duration of a customer trip is around an hour long, I'll propose a few customers-directed recommendations for promotions below and additional recommendations targeted at different potential or existing customers."
   ]
  },
  {
   "cell_type": "markdown",
   "id": "8dc2ac84",
   "metadata": {},
   "source": [
    "### Recommendations for promotions and offers based on findings"
   ]
  },
  {
   "cell_type": "markdown",
   "id": "23780e2f",
   "metadata": {},
   "source": [
    "Below you can find a list of the promotions and offers I'm recommending after reviewing the bikeshare data\n",
    " * 15% off customer rides in early summer months from May to July (for subscriber type = customer)\n",
    " * 20% off subscriptions for customer subscriber types in August and September\n",
    " * 15% off Student discounts for subscriptions \n",
    " * Create a rewards program for all customers and subscribers to get money off of their monthly subscription or money off a ride after reaching a certain number of points\n",
    " * Lyft ride rewards when users of Lyft (car) rides go on a certain amount of trips for $10 off a bike trip\n",
    " \n",
    " 1. 15% off customer (non subscriber) rides in early summer months from May to July will increase customer-based ridership. The promotion is targeted at the earlier months of summer because although people are riding during warm summer months, ridership is on average 2,950 rides less per month in the early summer months of May through July than later months of August through October. <br>\n",
    " 2. 20% off subscriptions for customers (non subscribers) in August and September will target non subscribing customers in the months when they are taking the most trips. The promotion will be at the beginning of the fall when school starts and people start taking less summer vacation. This will convince customer (non-subscribers) riders to buy a subscription for back to school / work time frame. <br>\n",
    " 3. 15% off student discounts for subscriptions will give students in the San Francisco area discounted subscriptions with proof of student ID. This discount will target individuals with a small or nonexistent salary to hopefully gain commitment and ridership while making it cost-effective for the student to use the bikeshare to commute to and from classes. <br>\n",
    " 4. A rewards program for riders based on number of bike trips and length of bike trips will make a more loyal customer base. Loyalty programs have been a proven method to increase or maintain a customer population because individuals naturally feel compelled to continue purchasing a product if there are rewards they are working towards. The rewards for this loyalty program would give subscribing customers a certain dollar-value off of their subscription after reaching a certain number of rides and would give non-subscribing customers a given dollar-value off individual ride passes. <br>\n",
    " 5. A promotion to target people using Lyft car ride services will hopefully increase new customers using the bike service. By giving Lyft users a promotion for $10 off a bike ride, they may be compelled to try the bikeshare service. The more new users mean the more potential users to continue being customers of the bikeshare service.<br>\n",
    " \n",
    " With these five promotions, students, new customers, and current customers will all feel compelled to use Lyft bikeshare services. Targeting specific groups of people such as non-subscribers with these promotions will increase subscriptions and ridership."
   ]
  }
 ],
 "metadata": {
  "environment": {
   "name": "tf2-gpu.2-3.m78",
   "type": "gcloud",
   "uri": "gcr.io/deeplearning-platform-release/tf2-gpu.2-3:m78"
  },
  "kernelspec": {
   "display_name": "Python 3",
   "language": "python",
   "name": "python3"
  },
  "language_info": {
   "codemirror_mode": {
    "name": "ipython",
    "version": 3
   },
   "file_extension": ".py",
   "mimetype": "text/x-python",
   "name": "python",
   "nbconvert_exporter": "python",
   "pygments_lexer": "ipython3",
   "version": "3.7.10"
  }
 },
 "nbformat": 4,
 "nbformat_minor": 5
}
